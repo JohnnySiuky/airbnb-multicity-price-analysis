{
 "cells": [
  {
   "cell_type": "code",
   "execution_count": null,
   "id": "29e2213f",
   "metadata": {},
   "outputs": [],
   "source": [
    "import pandas as pd\n",
    "\n",
    "df_nyc = pd.read_csv(\"../data/listings_nyc.csv.gz\")\n",
    "df_bj = pd.read_csv(\"../data/listings_beijing.csv.gz\")\n",
    "df_syd = pd.read_csv(\"../data/listings_sydney.csv.gz\")\n",
    "\n",
    "if \"city\" not in df_nyc.columns:\n",
    "    df_nyc[\"city\"] = \"New York\"\n",
    "    df_bj[\"city\"] = \"Beijing\"\n",
    "    df_syd[\"city\"] = \"Sydney\"\n",
    "\n",
    "df_all = pd.concat([df_nyc, df_bj, df_syd], axis=0)\n",
    "print(\"Total rows:\", len(df_all))\n",
    "print(\"\\nColumn names:\")\n",
    "print(df_all.columns.tolist())\n",
    "\n",
    "print(\"\\nTop 10 columns with the most missing values:\")\n",
    "print(df_all.isnull().sum().sort_values(ascending=False).head(10))\n",
    "\n",
    "#preview first 5 rows\n",
    "df_all.head()\n"
   ]
  },
  {
   "cell_type": "code",
   "execution_count": null,
   "id": "0487ab57",
   "metadata": {},
   "outputs": [],
   "source": [
    "df_all = df_all[df_all[\"price\"].notnull()]\n",
    "df_all = df_all[df_all[\"price\"] != \"\"]\n",
    "\n",
    "def clean_price(value):\n",
    "    if isinstance(value, str):\n",
    "        return float(value.replace('$', '').replace('¥', '').replace(',', '').strip())\n",
    "    else:\n",
    "        return float(value)\n",
    "\n",
    "df_all[\"price\"] = df_all[\"price\"].apply(clean_price)\n",
    "\n",
    "df_all = df_all[df_all[\"price\"].notnull()]\n",
    "\n",
    "print(\"Price column cleaned. Sample values:\")\n",
    "print(df_all[[\"city\",\"price\"]].head())\n",
    "\n",
    "\n"
   ]
  },
  {
   "cell_type": "code",
   "execution_count": null,
   "id": "f5e0ef6e",
   "metadata": {},
   "outputs": [],
   "source": [
    "# print(\"Number of listings per city:\")\n",
    "# print(df_all[\"city\"].value_counts())\n",
    "\n",
    "avg_price_by_city = df_all.groupby(\"city\")[\"price\"].mean()\n",
    "print(\"Averge price by city:\")\n",
    "print(avg_price_by_city)"
   ]
  },
  {
   "cell_type": "code",
   "execution_count": null,
   "id": "59882da5",
   "metadata": {},
   "outputs": [],
   "source": [
    "# Price distribution by city\n",
    "\n",
    "import matplotlib.pyplot as plt\n",
    "import seaborn as sns\n",
    "\n",
    "plt.figure(figsize=(8,6))               # size\n",
    "sns.boxplot(x=\"city\", y=\"price\", data=df_all)   #use seaborn will more easy and clean\n",
    "plt.title(\"Price Distribution by City\") # the title\n",
    "plt.ylabel(\"Price\")         #change the new y label\n",
    "plt.xlabel(\"City\")          #change the new x label\n",
    "plt.show()                  #show plot"
   ]
  },
  {
   "cell_type": "code",
   "execution_count": null,
   "id": "33b5a2a3",
   "metadata": {},
   "outputs": [],
   "source": [
    "stats = df_all.groupby(\"city\")[\"price\"].agg(Count='count',Mean='mean',Median='median',Standard_Deviation='std',Min='min',Max='max')  #aggregate  and also change the name\n",
    "print(stats)\n"
   ]
  },
  {
   "cell_type": "code",
   "execution_count": null,
   "id": "01649209",
   "metadata": {},
   "outputs": [],
   "source": [
    "#Compare different room type avg price\n",
    "import pandas as pd\n",
    "import matplotlib.pyplot as plt\n",
    "import seaborn as sns\n",
    "\n",
    "room_price = df_all.groupby(\"room_type\")[\"price\"].mean().reset_index()\n",
    "\n",
    "plt.figure(figsize=(8, 5))\n",
    "sns.barplot(data=room_price, x=\"room_type\", y=\"price\", palette=\"viridis\")\n",
    "plt.title(\"Avg price Vs Room Type\")\n",
    "plt.xlabel(\"Room Type\")\n",
    "plt.ylabel(\"Average Price\")\n",
    "plt.xticks(rotation=15)     # rotate x axis name\n",
    "plt.tight_layout()          # auto adjust the gap and hidden\n",
    "plt.show()\n",
    "\n"
   ]
  },
  {
   "cell_type": "code",
   "execution_count": null,
   "id": "197b8394",
   "metadata": {},
   "outputs": [],
   "source": [
    "# Geographic Distribution\n",
    "\n",
    "plt.figure(figsize=(8, 5))       # Set the figure size to 8 inches wide by 6 inches tall\n",
    "sns.scatterplot(data=df_all.sample(1000), x=\"longitude\", y=\"latitude\", hue=\"city\", alpha=0.4, s=10)\n",
    "plt.title(\"Geographic Distribution (Sample of 1000)\")\n",
    "plt.xlabel(\"Longitude\")\n",
    "plt.ylabel(\"Latitude\")\n",
    "plt.legend()        # add colour to different city pot\n",
    "plt.tight_layout()\n",
    "plt.show()\n"
   ]
  },
  {
   "cell_type": "code",
   "execution_count": null,
   "id": "be935b3b",
   "metadata": {},
   "outputs": [],
   "source": [
    "import seaborn as sns\n",
    "import matplotlib.pyplot as plt\n",
    "\n",
    "plt.figure(figsize=(10, 6))  # Set the figure size to 10 inches wide by 6 inches tall\n",
    "sns.boxplot(\n",
    "    x=\"city\", \n",
    "    y=\"price\", \n",
    "    data=df_all[df_all[\"price\"] < 500]  # Exclude listings with price greater than $500 to remove outliers\n",
    ")\n",
    "plt.title(\"Price Distribution by City (Excluding Listings Over $500)\")  # Set the plot title\n",
    "plt.ylabel(\"Price (USD)\")  # Label for the Y-axis\n",
    "plt.xlabel(\"City\")  # Label for the X-axis\n",
    "plt.tight_layout()  # Automatically adjust layout to prevent overlap\n",
    "plt.show()  # Display the plot\n",
    "\n"
   ]
  },
  {
   "cell_type": "code",
   "execution_count": null,
   "id": "d9728a7f",
   "metadata": {},
   "outputs": [],
   "source": [
    "plt.figure(figsize=(12, 6))\n",
    "sns.barplot(\n",
    "    data=df_all[df_all[\"price\"] < 500], x=\"room_type\", y=\"price\", hue=\"city\", ci=None)      # confidence interval 误差\n",
    "plt.title(\"Average Price by City and Room Type\")\n",
    "plt.ylabel(\"Average Price (USD)\")\n",
    "plt.xlabel(\"Room Type\")\n",
    "plt.legend(title=\"City\")\n",
    "plt.tight_layout()\n",
    "plt.show()\n"
   ]
  },
  {
   "cell_type": "code",
   "execution_count": null,
   "id": "961103f1",
   "metadata": {},
   "outputs": [],
   "source": [
    "import matplotlib.pyplot as plt\n",
    "\n",
    "df_all[\"city\"].value_counts().plot(kind='bar')\n",
    "plt.title(\"Number of Listings by City\")\n",
    "plt.xlabel(\"City\")\n",
    "plt.ylabel(\"Number of Listings\")\n",
    "plt.xticks(rotation=0)\n",
    "plt.tight_layout()\n",
    "plt.show()\n"
   ]
  },
  {
   "cell_type": "code",
   "execution_count": null,
   "id": "4b974f01",
   "metadata": {},
   "outputs": [],
   "source": [
    "import seaborn as sns\n",
    "import matplotlib.pyplot as plt\n",
    "\n",
    "avg_price_by_city = df_all.groupby(\"city\")[\"price\"].mean().reset_index()\n",
    "\n",
    "plt.figure(figsize=(8,6))\n",
    "sns.barplot(data=avg_price_by_city, x=\"city\", y=\"price\")\n",
    "plt.title(\"Average Price by City\")\n",
    "plt.xlabel(\"City\")\n",
    "plt.ylabel(\"Average Price (USD)\")\n",
    "plt.tight_layout()\n",
    "plt.show()\n"
   ]
  }
 ],
 "metadata": {
  "kernelspec": {
   "display_name": "Python 3",
   "language": "python",
   "name": "python3"
  },
  "language_info": {
   "codemirror_mode": {
    "name": "ipython",
    "version": 3
   },
   "file_extension": ".py",
   "mimetype": "text/x-python",
   "name": "python",
   "nbconvert_exporter": "python",
   "pygments_lexer": "ipython3",
   "version": "3.11.9"
  }
 },
 "nbformat": 4,
 "nbformat_minor": 5
}
